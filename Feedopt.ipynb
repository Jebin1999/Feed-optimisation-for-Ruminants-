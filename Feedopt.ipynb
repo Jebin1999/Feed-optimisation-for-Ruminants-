{
 "cells": [
  {
   "cell_type": "markdown",
   "metadata": {},
   "source": [
    "# Feed Optimization for Dairy Cows\n",
    "\n",
    "This project uses Linear Programming to optimize the feed mix for dairy cows, aiming to minimize the cost while satisfying nutritional requirements. We use data from the USDA FoodData Central API for the nutrient composition of common feed ingredients.\n",
    "\n",
    "## Project Steps:\n",
    "1. Fetch nutrient data using the USDA API.\n",
    "2. Handle missing data and replace with estimated averages.\n",
    "3. Set up the Linear Programming (LP) model using `PuLP`.\n",
    "4. Define the cost minimization objective and the nutritional constraints.\n",
    "5. Solve the model and visualize the optimized feed mix.\n",
    "\n"
   ]
  },
  {
   "cell_type": "markdown",
   "metadata": {},
   "source": [
    "## Step 1: Fetch Nutrient Data from USDA API\n",
    "We will fetch the nutrient data for corn silage, soybean meal, barley, and hay using the USDA FoodData Central API."
   ]
  },
  {
   "cell_type": "code",
   "execution_count": 7,
   "metadata": {},
   "outputs": [
    {
     "name": "stdout",
     "output_type": "stream",
     "text": [
      "  Feed Ingredient  Protein (%)  Fat (%)  Fiber (%)  Energy (kcal/kg)\n",
      "0     corn silage         0.84     0.21        0.5              44.0\n",
      "1    soybean meal         0.00     0.00        0.0               0.0\n",
      "2          barley         2.20     2.74        3.7             139.0\n",
      "3             hay        11.50    23.10        7.7             500.0\n"
     ]
    }
   ],
   "source": [
    "import requests\n",
    "import pandas as pd\n",
    "import pulp\n",
    "import matplotlib.pyplot as plt\n",
    "\n",
    "# API Key and base URL for USDA FoodData Central\n",
    "API_KEY = 'rN4YOtgn6oSLqzDxE4IpjluLd2sfxv7bWvdvjqza'\n",
    "BASE_URL = 'https://api.nal.usda.gov/fdc/v1/foods/search'\n",
    "\n",
    "# Define a list of feed ingredients to search for\n",
    "feed_ingredients = [\"corn silage\", \"soybean meal\", \"barley\", \"hay\"]\n",
    "\n",
    "# Fetch nutrient data for each feed ingredient\n",
    "feed_data = []\n",
    "for ingredient in feed_ingredients:\n",
    "    params = {'api_key': API_KEY, 'query': ingredient, 'pageSize': 1}\n",
    "    response = requests.get(BASE_URL, params=params)\n",
    "    \n",
    "    if response.status_code == 200:\n",
    "        try:\n",
    "            food_item = response.json()['foods'][0]\n",
    "            nutrients = {nutrient['nutrientName']: nutrient['value'] for nutrient in food_item['foodNutrients']}\n",
    "            feed_data.append({\n",
    "                'Feed Ingredient': ingredient,\n",
    "                'Protein (%)': nutrients.get('Protein', 0),\n",
    "                'Fat (%)': nutrients.get('Total lipid (fat)', 0),\n",
    "                'Fiber (%)': nutrients.get('Fiber, total dietary', 0),\n",
    "                'Energy (kcal/kg)': nutrients.get('Energy', 0)\n",
    "            })\n",
    "        except (IndexError, KeyError):\n",
    "            print(f\"No nutrient data available for {ingredient}\")\n",
    "            continue\n",
    "\n",
    "# Convert to DataFrame\n",
    "feed_df = pd.DataFrame(feed_data)\n",
    "\n",
    "# Display the data to verify\n",
    "print(feed_df)\n"
   ]
  },
  {
   "cell_type": "markdown",
   "metadata": {},
   "source": [
    "## Step 2: Handle Missing Data\n",
    "We replace any missing nutrient values (0s) with the average value from the dataset."
   ]
  },
  {
   "cell_type": "code",
   "execution_count": 8,
   "metadata": {},
   "outputs": [
    {
     "name": "stdout",
     "output_type": "stream",
     "text": [
      "  Feed Ingredient  Protein (%)  Fat (%)  Fiber (%)  Energy (kcal/kg)\n",
      "0     corn silage        0.840   0.2100      0.500             44.00\n",
      "1    soybean meal        3.635   6.5125      2.975            170.75\n",
      "2          barley        2.200   2.7400      3.700            139.00\n",
      "3             hay       11.500  23.1000      7.700            500.00\n"
     ]
    }
   ],
   "source": [
    "# Handle missing values by replacing with the mean\n",
    "feed_df['Protein (%)'].replace(0, feed_df['Protein (%)'].mean(), inplace=True)\n",
    "feed_df['Fat (%)'].replace(0, feed_df['Fat (%)'].mean(), inplace=True)\n",
    "feed_df['Fiber (%)'].replace(0, feed_df['Fiber (%)'].mean(), inplace=True)\n",
    "feed_df['Energy (kcal/kg)'].replace(0, feed_df['Energy (kcal/kg)'].mean(), inplace=True)\n",
    "\n",
    "# Verify the updated nutrient data\n",
    "print(feed_df)\n"
   ]
  },
  {
   "cell_type": "markdown",
   "metadata": {},
   "source": [
    "## Step 3: Define Nutritional Requirements and Prices\n",
    "Here we define the minimum nutritional requirements for dairy cows and assign prices to each feed ingredient."
   ]
  },
  {
   "cell_type": "code",
   "execution_count": 9,
   "metadata": {},
   "outputs": [],
   "source": [
    "# Nutritional requirements (adjustable based on cow type)\n",
    "protein_min = 16  # Increased protein requirement\n",
    "fat_min = 4       # Increased fat requirement\n",
    "fiber_min = 25    # Increased fiber requirement\n",
    "energy_min = 3000 # Increased energy requirement\n",
    "\n",
    "# Feed prices (in $ per kg)\n",
    "feed_prices = {'corn silage': 0.15, 'soybean meal': 0.50, 'barley': 0.20, 'hay': 0.10}\n"
   ]
  },
  {
   "cell_type": "markdown",
   "metadata": {},
   "source": [
    "## Step 4: Set Up the Linear Programming Model\n",
    "We now set up the optimization problem using the PuLP library. The objective is to minimize the total cost of the feed while meeting the nutritional requirements."
   ]
  },
  {
   "cell_type": "code",
   "execution_count": 10,
   "metadata": {},
   "outputs": [],
   "source": [
    "# Define the LP problem\n",
    "model = pulp.LpProblem(\"Feed_Optimization\", pulp.LpMinimize)\n",
    "\n",
    "# Decision variables: Proportion of each feed ingredient\n",
    "feed_vars = pulp.LpVariable.dicts(\"Feed\", feed_df['Feed Ingredient'], lowBound=0)\n",
    "\n",
    "# Objective: Minimize cost\n",
    "model += pulp.lpSum([feed_vars[i] * feed_prices[i] for i in feed_df['Feed Ingredient']])\n",
    "\n",
    "# Constraints: Total feed = 100%\n",
    "model += pulp.lpSum([feed_vars[i] for i in feed_df['Feed Ingredient']]) == 100\n",
    "\n",
    "# Nutritional constraints\n",
    "model += pulp.lpSum([feed_vars[i] * feed_df.loc[feed_df['Feed Ingredient'] == i, 'Protein (%)'].values[0] for i in feed_df['Feed Ingredient']]) >= protein_min\n",
    "model += pulp.lpSum([feed_vars[i] * feed_df.loc[feed_df['Feed Ingredient'] == i, 'Fat (%)'].values[0] for i in feed_df['Feed Ingredient']]) >= fat_min\n",
    "model += pulp.lpSum([feed_vars[i] * feed_df.loc[feed_df['Feed Ingredient'] == i, 'Fiber (%)'].values[0] for i in feed_df['Feed Ingredient']]) >= fiber_min\n",
    "model += pulp.lpSum([feed_vars[i] * feed_df.loc[feed_df['Feed Ingredient'] == i, 'Energy (kcal/kg)'].values[0] for i in feed_df['Feed Ingredient']]) >= energy_min\n"
   ]
  },
  {
   "cell_type": "markdown",
   "metadata": {},
   "source": [
    "## Step 5: Add Upper and Lower Bounds\n",
    "To prevent over-reliance on hay or any single ingredient, we add upper and lower bounds for each feed ingredient"
   ]
  },
  {
   "cell_type": "code",
   "execution_count": 11,
   "metadata": {},
   "outputs": [],
   "source": [
    "# Add upper and lower bounds to ensure balance in ingredients\n",
    "for i in feed_df['Feed Ingredient']:\n",
    "    if i != 'hay':  # Ensure other ingredients have at least 5%\n",
    "        model += feed_vars[i] >= 5  # Minimum 5% for all other ingredients\n",
    "\n",
    "model += feed_vars['hay'] <= 60  # Maximum 60% for hay\n"
   ]
  },
  {
   "cell_type": "markdown",
   "metadata": {},
   "source": [
    "## Step 6: Solve the Model and Display Results\n",
    "We now solve the optimization model and display the results, including the optimized feed mix and total cost."
   ]
  },
  {
   "cell_type": "code",
   "execution_count": 12,
   "metadata": {},
   "outputs": [
    {
     "name": "stdout",
     "output_type": "stream",
     "text": [
      "corn silage: 30.00%\n",
      "soybean meal: 5.00%\n",
      "barley: 5.00%\n",
      "hay: 60.00%\n",
      "Total feed cost: $14.00 per kg\n"
     ]
    }
   ],
   "source": [
    "# Solve the model\n",
    "model.solve()\n",
    "\n",
    "# Display results\n",
    "for var in feed_vars:\n",
    "    print(f\"{var}: {feed_vars[var].varValue:.2f}%\")\n",
    "\n",
    "# Calculate total cost\n",
    "total_cost = sum(feed_vars[i].varValue * feed_prices[i] for i in feed_df['Feed Ingredient'])\n",
    "print(f\"Total feed cost: ${total_cost:.2f} per kg\")\n"
   ]
  },
  {
   "cell_type": "markdown",
   "metadata": {},
   "source": [
    "## Step 7: Visualize the Feed Mix\n",
    "Finally, we visualize the optimized feed mix using a bar chart."
   ]
  },
  {
   "cell_type": "code",
   "execution_count": 15,
   "metadata": {},
   "outputs": [
    {
     "data": {
      "image/png": "[encoded data removed]",
      "text/plain": [
       "<Figure size 432x288 with 1 Axes>"
      ]
     },
     "metadata": {
      "needs_background": "light"
     },
     "output_type": "display_data"
    },
    {
     "data": {
      "image/png": "[encoded data removed]",
      "text/plain": [
       "<Figure size 720x360 with 2 Axes>"
      ]
     },
     "metadata": {
      "needs_background": "light"
     },
     "output_type": "display_data"
    }
   ],
   "source": [
    "import matplotlib.pyplot as plt\n",
    "\n",
    "\n",
    "# Visualize the feed mix\n",
    "feed_solution = {var: feed_vars[var].varValue for var in feed_vars}\n",
    "plt.bar(feed_solution.keys(), feed_solution.values())\n",
    "plt.xlabel('Feed Ingredient')\n",
    "plt.ylabel('Proportion (%)')\n",
    "plt.title('Optimized Feed Mix for Dairy Cows')\n",
    "plt.show()\n",
    "\n",
    "# Extract the optimized feed mix\n",
    "feed_solution = {var: feed_vars[var].varValue for var in feed_vars}\n",
    "\n",
    "# Total feed mix pie chart\n",
    "plt.figure(figsize=(10, 5))\n",
    "\n",
    "# Pie chart for feed mix\n",
    "plt.subplot(1, 2, 1)\n",
    "plt.pie(feed_solution.values(), labels=feed_solution.keys(), autopct='%1.1f%%', startangle=90, colors=['#ff9999','#66b3ff','#99ff99','#ffcc99'])\n",
    "plt.title('Optimized Feed Mix for Dairy Cows')\n",
    "\n",
    "# Bar chart for nutritional contributions\n",
    "nutritional_contributions = {'Protein (%)': [], 'Fat (%)': [], 'Fiber (%)': [], 'Energy (kcal/kg)': []}\n",
    "\n",
    "# Collect data for each nutrient contribution\n",
    "for i in feed_df['Feed Ingredient']:\n",
    "    nutritional_contributions['Protein (%)'].append(feed_vars[i].varValue * feed_df.loc[feed_df['Feed Ingredient'] == i, 'Protein (%)'].values[0] / 100)\n",
    "    nutritional_contributions['Fat (%)'].append(feed_vars[i].varValue * feed_df.loc[feed_df['Feed Ingredient'] == i, 'Fat (%)'].values[0] / 100)\n",
    "    nutritional_contributions['Fiber (%)'].append(feed_vars[i].varValue * feed_df.loc[feed_df['Feed Ingredient'] == i, 'Fiber (%)'].values[0] / 100)\n",
    "    nutritional_contributions['Energy (kcal/kg)'].append(feed_vars[i].varValue * feed_df.loc[feed_df['Feed Ingredient'] == i, 'Energy (kcal/kg)'].values[0])\n",
    "\n",
    "# Bar chart for nutritional contributions\n",
    "plt.subplot(1, 2, 2)\n",
    "width = 0.2\n",
    "x = range(len(feed_df['Feed Ingredient']))\n",
    "\n",
    "plt.bar(x, nutritional_contributions['Protein (%)'], width=width, label='Protein (%)')\n",
    "plt.bar([p + width for p in x], nutritional_contributions['Fat (%)'], width=width, label='Fat (%)')\n",
    "plt.bar([p + 2 * width for p in x], nutritional_contributions['Fiber (%)'], width=width, label='Fiber (%)')\n",
    "plt.bar([p + 3 * width for p in x], nutritional_contributions['Energy (kcal/kg)'], width=width, label='Energy (kcal/kg)')\n",
    "\n",
    "plt.xticks([p + 1.5 * width for p in x], feed_df['Feed Ingredient'])\n",
    "plt.title('Nutritional Contributions per Feed Ingredient')\n",
    "plt.xlabel('Feed Ingredient')\n",
    "plt.ylabel('Nutrient Contribution')\n",
    "plt.legend()\n",
    "\n",
    "plt.tight_layout()\n",
    "plt.show()\n"
   ]
  },
  {
   "cell_type": "markdown",
   "metadata": {},
   "source": [
    "## Conclusion\n",
    "\n",
    "This project demonstrates how to optimize the feed mix for dairy cows using Linear Programming, minimizing cost while meeting nutritional requirements. The use of real-world data from the USDA API and the balance of constraints ensures that the model produces a practical solution for the dairy industry.\n",
    "\n",
    "## Next Steps:\n",
    "\n",
    "             * Experiment with different cow types or nutritional requirements.\n",
    "             * Explore different feed ingredients and adjust the cost structure.\n",
    "             * Incorporate more advanced optimization techniques if needed"
   ]
  }
 ],
 "metadata": {
  "kernelspec": {
   "display_name": "base",
   "language": "python",
   "name": "python3"
  },
  "language_info": {
   "codemirror_mode": {
    "name": "ipython",
    "version": 3
   },
   "file_extension": ".py",
   "mimetype": "text/x-python",
   "name": "python",
   "nbconvert_exporter": "python",
   "pygments_lexer": "ipython3",
   "version": "3.9.13"
  }
 },
 "nbformat": 4,
 "nbformat_minor": 2
}
